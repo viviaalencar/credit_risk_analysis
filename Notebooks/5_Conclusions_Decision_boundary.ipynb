{
 "cells": [
  {
   "cell_type": "markdown",
   "id": "collected-publication",
   "metadata": {},
   "source": [
    "# Decision Boundary"
   ]
  },
  {
   "cell_type": "markdown",
   "id": "measured-enzyme",
   "metadata": {
    "toc": true
   },
   "source": [
    "<h1>Table of Contents<span class=\"tocSkip\"></span></h1>\n",
    "<div class=\"toc\"><ul class=\"toc-item\"><li><span><a href=\"#Conclusions\" data-toc-modified-id=\"Conclusions-1\"><span class=\"toc-item-num\">1&nbsp;&nbsp;</span>Conclusions</a></span></li></ul></div>"
   ]
  },
  {
   "cell_type": "markdown",
   "id": "minor-detector",
   "metadata": {},
   "source": [
    "The objective is to accept the highest possible number of operations with minimum default rate. To conduct this analysis a number of acceptances rates are going to be calculated and their default rate."
   ]
  },
  {
   "cell_type": "markdown",
   "id": "diverse-wealth",
   "metadata": {},
   "source": [
    "**LGD** (Loss Given Default) weren't calculated, so isn't possible to measure the impact on accepting a loan that eventualy will turn a default one. "
   ]
  },
  {
   "cell_type": "code",
   "execution_count": 1,
   "id": "signed-compatibility",
   "metadata": {},
   "outputs": [],
   "source": [
    "import os\n",
    "import numpy as np\n",
    "import pandas as pd\n",
    "\n",
    "import matplotlib.pyplot as plt\n",
    "import seaborn as sns"
   ]
  },
  {
   "cell_type": "code",
   "execution_count": 2,
   "id": "intensive-listing",
   "metadata": {},
   "outputs": [],
   "source": [
    "from catboost import CatBoostClassifier, Pool\n",
    "\n",
    "from catboost.utils import get_roc_curve, get_fpr_curve, get_fnr_curve"
   ]
  },
  {
   "cell_type": "code",
   "execution_count": 3,
   "id": "exempt-attraction",
   "metadata": {},
   "outputs": [],
   "source": [
    "\n",
    "# Set Matplotlib defaults\n",
    "plt.style.use(\"seaborn-ticks\")\n",
    "plt.rc(\"figure\", autolayout=True,figsize=(7,5))\n",
    "plt.rc(\n",
    "    \"axes\",\n",
    "    labelweight=\"bold\",\n",
    "    labelsize=\"large\",\n",
    "    titleweight=\"bold\",\n",
    "    titlesize=14,\n",
    "    titlepad=10,\n",
    ")\n"
   ]
  },
  {
   "cell_type": "code",
   "execution_count": 4,
   "id": "tender-mumbai",
   "metadata": {},
   "outputs": [
    {
     "data": {
      "text/plain": [
       "'/Users/mac/Documents/Python/CreditRisk/Notebooks'"
      ]
     },
     "execution_count": 4,
     "metadata": {},
     "output_type": "execute_result"
    }
   ],
   "source": [
    "os.getcwd()"
   ]
  },
  {
   "cell_type": "code",
   "execution_count": 5,
   "id": "exclusive-receipt",
   "metadata": {},
   "outputs": [],
   "source": [
    "os.chdir('/Users/mac/Documents/Python/CreditRisk')"
   ]
  },
  {
   "cell_type": "code",
   "execution_count": 6,
   "id": "weekly-consistency",
   "metadata": {},
   "outputs": [
    {
     "data": {
      "text/plain": [
       "<catboost.core.CatBoostClassifier at 0x128eb7048>"
      ]
     },
     "execution_count": 6,
     "metadata": {},
     "output_type": "execute_result"
    }
   ],
   "source": [
    "#load the model\n",
    "\n",
    "model = CatBoostClassifier()\n",
    "\n",
    "model.load_model(\"Models/catboost_model_1.bin\")"
   ]
  },
  {
   "cell_type": "code",
   "execution_count": 7,
   "id": "civic-sample",
   "metadata": {},
   "outputs": [],
   "source": [
    "df_val = pd.read_csv('Data/df_val_clean.csv')"
   ]
  },
  {
   "cell_type": "code",
   "execution_count": 8,
   "id": "nervous-jason",
   "metadata": {},
   "outputs": [],
   "source": [
    "X_validation = df_val.copy()\n",
    "y_validation = X_validation.pop('loan_status')"
   ]
  },
  {
   "cell_type": "code",
   "execution_count": 9,
   "id": "metallic-hungary",
   "metadata": {},
   "outputs": [],
   "source": [
    "def feature_engineering(X):\n",
    "    X_new = X.copy()\n",
    "        \n",
    "    X_new.drop('cb_person_cred_hist_length',axis=1,inplace=True)\n",
    "    \n",
    "    #person employed\n",
    "    X_new.loc[X_new.person_emp_length==0,'employed'] = 'N'\n",
    "    X_new.loc[X_new.person_emp_length >0,'employed'] = 'Y'\n",
    "    \n",
    "    #income médio por tipo de home ownership\n",
    "    by_home_ownership = X_new.groupby('person_home_ownership')\n",
    "    X_new['mean_income_homeown'] = by_home_ownership.person_income.transform(lambda x: x.mean()).round(2)\n",
    "\n",
    "    #loan_intent\n",
    "    by_loan_intent = X_new.groupby('loan_intent')\n",
    "    X_new['mean_income_intent'] = by_loan_intent.person_income.transform(lambda x: x.mean()).round(2)\n",
    "\n",
    "    #income médio por loan_grade\n",
    "    by_loan_grade = X_new.groupby('loan_grade')\n",
    "    X_new['mean_income_grade'] = by_loan_grade.person_income.transform(lambda x: x.mean()).round(2)\n",
    "\n",
    "    #person_income/person_emp_lengthD\n",
    "    X_new.loc[X_new.person_emp_length==0,'income_emp_length_ratio'] = 0\n",
    "    X_new.loc[X_new.person_emp_length!=0,'income_emp_length_ratio'] = X_new.person_income / X_new.person_emp_length\n",
    "\n",
    "    #Difference between person_income and loan_amnt\n",
    "    X_new['income_loan_diff'] = X_new['person_income'] - X_new['loan_amnt']\n",
    "\n",
    "    return X_new"
   ]
  },
  {
   "cell_type": "code",
   "execution_count": 10,
   "id": "adverse-wilson",
   "metadata": {},
   "outputs": [],
   "source": [
    "X_validation = feature_engineering(X_validation)"
   ]
  },
  {
   "cell_type": "code",
   "execution_count": 11,
   "id": "cathedral-orleans",
   "metadata": {},
   "outputs": [],
   "source": [
    "cat_features = [col for col in X_validation.select_dtypes(['object'])]"
   ]
  },
  {
   "cell_type": "code",
   "execution_count": 12,
   "id": "instructional-subdivision",
   "metadata": {},
   "outputs": [],
   "source": [
    "validation_pool = Pool(X_validation,y_validation,cat_features=cat_features)"
   ]
  },
  {
   "cell_type": "code",
   "execution_count": 13,
   "id": "concrete-undergraduate",
   "metadata": {},
   "outputs": [],
   "source": [
    "df_pred = pd.concat([y_validation,pd.Series(model.predict_proba(X_validation)[:,1],name='prob_default')],axis=1)"
   ]
  },
  {
   "cell_type": "code",
   "execution_count": 14,
   "id": "included-despite",
   "metadata": {},
   "outputs": [
    {
     "data": {
      "text/html": [
       "<div>\n",
       "<style scoped>\n",
       "    .dataframe tbody tr th:only-of-type {\n",
       "        vertical-align: middle;\n",
       "    }\n",
       "\n",
       "    .dataframe tbody tr th {\n",
       "        vertical-align: top;\n",
       "    }\n",
       "\n",
       "    .dataframe thead th {\n",
       "        text-align: right;\n",
       "    }\n",
       "</style>\n",
       "<table border=\"1\" class=\"dataframe\">\n",
       "  <thead>\n",
       "    <tr style=\"text-align: right;\">\n",
       "      <th></th>\n",
       "      <th>loan_status</th>\n",
       "      <th>prob_default</th>\n",
       "    </tr>\n",
       "  </thead>\n",
       "  <tbody>\n",
       "    <tr>\n",
       "      <th>0</th>\n",
       "      <td>1</td>\n",
       "      <td>0.943088</td>\n",
       "    </tr>\n",
       "    <tr>\n",
       "      <th>1</th>\n",
       "      <td>0</td>\n",
       "      <td>0.053275</td>\n",
       "    </tr>\n",
       "    <tr>\n",
       "      <th>2</th>\n",
       "      <td>0</td>\n",
       "      <td>0.937162</td>\n",
       "    </tr>\n",
       "    <tr>\n",
       "      <th>3</th>\n",
       "      <td>0</td>\n",
       "      <td>0.122814</td>\n",
       "    </tr>\n",
       "    <tr>\n",
       "      <th>4</th>\n",
       "      <td>0</td>\n",
       "      <td>0.087836</td>\n",
       "    </tr>\n",
       "    <tr>\n",
       "      <th>...</th>\n",
       "      <td>...</td>\n",
       "      <td>...</td>\n",
       "    </tr>\n",
       "    <tr>\n",
       "      <th>6510</th>\n",
       "      <td>0</td>\n",
       "      <td>0.020695</td>\n",
       "    </tr>\n",
       "    <tr>\n",
       "      <th>6511</th>\n",
       "      <td>1</td>\n",
       "      <td>0.057811</td>\n",
       "    </tr>\n",
       "    <tr>\n",
       "      <th>6512</th>\n",
       "      <td>1</td>\n",
       "      <td>0.169471</td>\n",
       "    </tr>\n",
       "    <tr>\n",
       "      <th>6513</th>\n",
       "      <td>0</td>\n",
       "      <td>0.095337</td>\n",
       "    </tr>\n",
       "    <tr>\n",
       "      <th>6514</th>\n",
       "      <td>0</td>\n",
       "      <td>0.210354</td>\n",
       "    </tr>\n",
       "  </tbody>\n",
       "</table>\n",
       "<p>6515 rows × 2 columns</p>\n",
       "</div>"
      ],
      "text/plain": [
       "      loan_status  prob_default\n",
       "0               1      0.943088\n",
       "1               0      0.053275\n",
       "2               0      0.937162\n",
       "3               0      0.122814\n",
       "4               0      0.087836\n",
       "...           ...           ...\n",
       "6510            0      0.020695\n",
       "6511            1      0.057811\n",
       "6512            1      0.169471\n",
       "6513            0      0.095337\n",
       "6514            0      0.210354\n",
       "\n",
       "[6515 rows x 2 columns]"
      ]
     },
     "execution_count": 14,
     "metadata": {},
     "output_type": "execute_result"
    }
   ],
   "source": [
    "df_pred"
   ]
  },
  {
   "cell_type": "code",
   "execution_count": 15,
   "id": "rental-script",
   "metadata": {},
   "outputs": [
    {
     "name": "stdout",
     "output_type": "stream",
     "text": [
      "count    6515.000000\n",
      "mean        0.231849\n",
      "std         0.329274\n",
      "min         0.000413\n",
      "25%         0.036174\n",
      "50%         0.076311\n",
      "75%         0.215644\n",
      "max         0.999971\n",
      "Name: prob_default, dtype: float64\n"
     ]
    }
   ],
   "source": [
    "# Check the statistics of the probabilities of default\n",
    "print(df_pred['prob_default'].describe())"
   ]
  },
  {
   "cell_type": "code",
   "execution_count": 16,
   "id": "grand-cargo",
   "metadata": {
    "scrolled": false
   },
   "outputs": [
    {
     "data": {
      "image/png": "[encoded data removed]",
      "text/plain": [
       "<Figure size 504x360 with 1 Axes>"
      ]
     },
     "metadata": {},
     "output_type": "display_data"
    }
   ],
   "source": [
    "f,ax = plt.subplots(1,1)\n",
    "sns.histplot(data=df_pred,x='prob_default',ax=ax)\n",
    "\n",
    "threshold = np.quantile(df_pred['prob_default'], 0.80)\n",
    "\n",
    "\n",
    "\n",
    "sns.despine()"
   ]
  },
  {
   "cell_type": "code",
   "execution_count": 30,
   "id": "ranking-integration",
   "metadata": {},
   "outputs": [],
   "source": [
    "accept_rates = np.arange(0.05,1,0.05)\n",
    "thresholds=[]\n",
    "bad_rates = []\n",
    "num_accepted = []\n",
    "estimated_value =[]"
   ]
  },
  {
   "cell_type": "code",
   "execution_count": 31,
   "id": "bronze-panel",
   "metadata": {},
   "outputs": [],
   "source": [
    "\n",
    "for rate in accept_rates:\n",
    "    # Calculate the threshold for the acceptance rate\n",
    "    thresh = np.quantile(df_pred['prob_default'], rate).round(3)\n",
    "    # Add the threshold value to the list of thresholds\n",
    "    thresholds.append(np.quantile(df_pred['prob_default'], rate).round(3))\n",
    "    \n",
    "    # Reassign the loan_status value using the threshold\n",
    "    df_pred['pred_loan_status'] = df_pred['prob_default'].apply(lambda x: 1 if x > thresh else 0)\n",
    "    # Create a set of accepted loans using this acceptance rate\n",
    "    accepted_loans = df_pred[df_pred['pred_loan_status'] == 0]\n",
    "    # Calculate and append the bad rate using the acceptance rate\n",
    "    bad_rates.append(np.sum((accepted_loans['loan_status']) / len(accepted_loans['loan_status'])).round(3))\n",
    "    # Calculate and append the number os accepted loan\n",
    "    num_accepted.append(len(accepted_loans['loan_status']))\n",
    "    "
   ]
  },
  {
   "cell_type": "code",
   "execution_count": 32,
   "id": "driven-exchange",
   "metadata": {},
   "outputs": [],
   "source": [
    "strat_df = pd.DataFrame(zip(accept_rates, thresholds, bad_rates,num_accepted),\n",
    "                        columns = ['Acceptance Rate','Threshold','Bad Rate','Num Accepted Loans'])"
   ]
  },
  {
   "cell_type": "code",
   "execution_count": 33,
   "id": "athletic-nurse",
   "metadata": {},
   "outputs": [
    {
     "data": {
      "text/html": [
       "<div>\n",
       "<style scoped>\n",
       "    .dataframe tbody tr th:only-of-type {\n",
       "        vertical-align: middle;\n",
       "    }\n",
       "\n",
       "    .dataframe tbody tr th {\n",
       "        vertical-align: top;\n",
       "    }\n",
       "\n",
       "    .dataframe thead th {\n",
       "        text-align: right;\n",
       "    }\n",
       "</style>\n",
       "<table border=\"1\" class=\"dataframe\">\n",
       "  <thead>\n",
       "    <tr style=\"text-align: right;\">\n",
       "      <th></th>\n",
       "      <th>Acceptance Rate</th>\n",
       "      <th>Threshold</th>\n",
       "      <th>Bad Rate</th>\n",
       "      <th>Num Accepted Loans</th>\n",
       "    </tr>\n",
       "  </thead>\n",
       "  <tbody>\n",
       "    <tr>\n",
       "      <th>0</th>\n",
       "      <td>0.05</td>\n",
       "      <td>0.011</td>\n",
       "      <td>0.000</td>\n",
       "      <td>333</td>\n",
       "    </tr>\n",
       "    <tr>\n",
       "      <th>1</th>\n",
       "      <td>0.10</td>\n",
       "      <td>0.018</td>\n",
       "      <td>0.006</td>\n",
       "      <td>668</td>\n",
       "    </tr>\n",
       "    <tr>\n",
       "      <th>2</th>\n",
       "      <td>0.15</td>\n",
       "      <td>0.024</td>\n",
       "      <td>0.005</td>\n",
       "      <td>992</td>\n",
       "    </tr>\n",
       "    <tr>\n",
       "      <th>3</th>\n",
       "      <td>0.20</td>\n",
       "      <td>0.030</td>\n",
       "      <td>0.009</td>\n",
       "      <td>1297</td>\n",
       "    </tr>\n",
       "    <tr>\n",
       "      <th>4</th>\n",
       "      <td>0.25</td>\n",
       "      <td>0.036</td>\n",
       "      <td>0.012</td>\n",
       "      <td>1619</td>\n",
       "    </tr>\n",
       "    <tr>\n",
       "      <th>5</th>\n",
       "      <td>0.30</td>\n",
       "      <td>0.042</td>\n",
       "      <td>0.015</td>\n",
       "      <td>1937</td>\n",
       "    </tr>\n",
       "    <tr>\n",
       "      <th>6</th>\n",
       "      <td>0.35</td>\n",
       "      <td>0.049</td>\n",
       "      <td>0.021</td>\n",
       "      <td>2299</td>\n",
       "    </tr>\n",
       "    <tr>\n",
       "      <th>7</th>\n",
       "      <td>0.40</td>\n",
       "      <td>0.057</td>\n",
       "      <td>0.025</td>\n",
       "      <td>2611</td>\n",
       "    </tr>\n",
       "    <tr>\n",
       "      <th>8</th>\n",
       "      <td>0.45</td>\n",
       "      <td>0.066</td>\n",
       "      <td>0.029</td>\n",
       "      <td>2941</td>\n",
       "    </tr>\n",
       "    <tr>\n",
       "      <th>9</th>\n",
       "      <td>0.50</td>\n",
       "      <td>0.076</td>\n",
       "      <td>0.034</td>\n",
       "      <td>3239</td>\n",
       "    </tr>\n",
       "    <tr>\n",
       "      <th>10</th>\n",
       "      <td>0.55</td>\n",
       "      <td>0.089</td>\n",
       "      <td>0.037</td>\n",
       "      <td>3581</td>\n",
       "    </tr>\n",
       "    <tr>\n",
       "      <th>11</th>\n",
       "      <td>0.60</td>\n",
       "      <td>0.108</td>\n",
       "      <td>0.042</td>\n",
       "      <td>3909</td>\n",
       "    </tr>\n",
       "    <tr>\n",
       "      <th>12</th>\n",
       "      <td>0.65</td>\n",
       "      <td>0.132</td>\n",
       "      <td>0.048</td>\n",
       "      <td>4233</td>\n",
       "    </tr>\n",
       "    <tr>\n",
       "      <th>13</th>\n",
       "      <td>0.70</td>\n",
       "      <td>0.163</td>\n",
       "      <td>0.057</td>\n",
       "      <td>4562</td>\n",
       "    </tr>\n",
       "    <tr>\n",
       "      <th>14</th>\n",
       "      <td>0.75</td>\n",
       "      <td>0.216</td>\n",
       "      <td>0.062</td>\n",
       "      <td>4887</td>\n",
       "    </tr>\n",
       "    <tr>\n",
       "      <th>15</th>\n",
       "      <td>0.80</td>\n",
       "      <td>0.294</td>\n",
       "      <td>0.065</td>\n",
       "      <td>5212</td>\n",
       "    </tr>\n",
       "    <tr>\n",
       "      <th>16</th>\n",
       "      <td>0.85</td>\n",
       "      <td>0.859</td>\n",
       "      <td>0.082</td>\n",
       "      <td>5538</td>\n",
       "    </tr>\n",
       "    <tr>\n",
       "      <th>17</th>\n",
       "      <td>0.90</td>\n",
       "      <td>0.963</td>\n",
       "      <td>0.131</td>\n",
       "      <td>5861</td>\n",
       "    </tr>\n",
       "    <tr>\n",
       "      <th>18</th>\n",
       "      <td>0.95</td>\n",
       "      <td>0.991</td>\n",
       "      <td>0.179</td>\n",
       "      <td>6204</td>\n",
       "    </tr>\n",
       "  </tbody>\n",
       "</table>\n",
       "</div>"
      ],
      "text/plain": [
       "    Acceptance Rate  Threshold  Bad Rate  Num Accepted Loans\n",
       "0              0.05      0.011     0.000                 333\n",
       "1              0.10      0.018     0.006                 668\n",
       "2              0.15      0.024     0.005                 992\n",
       "3              0.20      0.030     0.009                1297\n",
       "4              0.25      0.036     0.012                1619\n",
       "5              0.30      0.042     0.015                1937\n",
       "6              0.35      0.049     0.021                2299\n",
       "7              0.40      0.057     0.025                2611\n",
       "8              0.45      0.066     0.029                2941\n",
       "9              0.50      0.076     0.034                3239\n",
       "10             0.55      0.089     0.037                3581\n",
       "11             0.60      0.108     0.042                3909\n",
       "12             0.65      0.132     0.048                4233\n",
       "13             0.70      0.163     0.057                4562\n",
       "14             0.75      0.216     0.062                4887\n",
       "15             0.80      0.294     0.065                5212\n",
       "16             0.85      0.859     0.082                5538\n",
       "17             0.90      0.963     0.131                5861\n",
       "18             0.95      0.991     0.179                6204"
      ]
     },
     "execution_count": 33,
     "metadata": {},
     "output_type": "execute_result"
    }
   ],
   "source": [
    "strat_df.reset_index(drop=True)"
   ]
  },
  {
   "cell_type": "code",
   "execution_count": 34,
   "id": "blocked-quarter",
   "metadata": {
    "scrolled": false
   },
   "outputs": [
    {
     "data": {
      "image/png": "[encoded data removed]",
      "text/plain": [
       "<Figure size 504x360 with 1 Axes>"
      ]
     },
     "metadata": {},
     "output_type": "display_data"
    }
   ],
   "source": [
    "# Plot the strategy curve\n",
    "f,ax1 = plt.subplots(1,1,)\n",
    "sns.lineplot(x=strat_df['Acceptance Rate'], y=strat_df['Bad Rate'],ax=ax1)\n",
    "\n",
    "ax1.set_xlabel('Acceptance Rate')\n",
    "ax1.set_ylabel('Bad Rate')\n",
    "ax1.set_title('Acceptance and Bad Rates')\n",
    "\n",
    "sns.despine()\n",
    "plt.show()\n"
   ]
  },
  {
   "cell_type": "markdown",
   "id": "collective-convenience",
   "metadata": {},
   "source": [
    "## Conclusions"
   ]
  },
  {
   "cell_type": "markdown",
   "id": "sound-austria",
   "metadata": {},
   "source": [
    "- With acceptance rates above 80% the bad rate grows very fast.\n",
    "- Selecting a 85% acceptance rate we see a decrease of bad rate from 21.82% to 8.2% (-39%).\n",
    "- To achieve this acceptance rate the model threshold (the value of probability of a loan be considered a default) is 0.859 sugesting that this model needs calibration, wich often occours with tree algorithms.  "
   ]
  }
 ],
 "metadata": {
  "kernelspec": {
   "display_name": "Python 3",
   "language": "python",
   "name": "python3"
  },
  "language_info": {
   "codemirror_mode": {
    "name": "ipython",
    "version": 3
   },
   "file_extension": ".py",
   "mimetype": "text/x-python",
   "name": "python",
   "nbconvert_exporter": "python",
   "pygments_lexer": "ipython3",
   "version": "3.7.3"
  },
  "toc": {
   "base_numbering": 1,
   "nav_menu": {},
   "number_sections": true,
   "sideBar": true,
   "skip_h1_title": true,
   "title_cell": "Table of Contents",
   "title_sidebar": "Contents",
   "toc_cell": true,
   "toc_position": {},
   "toc_section_display": true,
   "toc_window_display": true
  }
 },
 "nbformat": 4,
 "nbformat_minor": 5
}
